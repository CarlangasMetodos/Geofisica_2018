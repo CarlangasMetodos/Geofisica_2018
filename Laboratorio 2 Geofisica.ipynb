{
 "cells": [
  {
   "cell_type": "code",
   "execution_count": 12,
   "metadata": {},
   "outputs": [],
   "source": [
    "#Taller 2 laboratorio de Geofísica\n",
    "\n",
    "import numpy as np\n",
    "import matplotlib.pyplot as plt"
   ]
  },
  {
   "cell_type": "code",
   "execution_count": 13,
   "metadata": {},
   "outputs": [
    {
     "name": "stdout",
     "output_type": "stream",
     "text": [
      "[31.955, 31.955, 31.955, 31.955, 31.955, 31.955, 31.955, 31.955, 31.955, 31.955, 31.955, 31.955, 31.955, 31.955]\n"
     ]
    }
   ],
   "source": [
    "G=6.67*10**-11\n",
    "deltadensidad=200.0\n",
    "anomaliaBourger=[1.09,4.78,13.82,22.15,35.18,48.4,7.28,59.65,63.91,52.94,43.41,37.27,31.7,12.32]\n",
    "x=[0,623,1246,1869,2492,3115,0,3738,4361,4984,5607,6230,6853,0]\n",
    "\n",
    "#Half-width\n",
    "maxmed=max(anomaliaBourger)/2.0\n",
    "half=[]\n",
    "\n",
    "for i in range(len(x)):\n",
    "    half.append(maxmed)\n",
    "    \n",
    "print (half)"
   ]
  },
  {
   "cell_type": "code",
   "execution_count": 14,
   "metadata": {},
   "outputs": [
    {
     "data": {
      "text/plain": [
       "<matplotlib.legend.Legend at 0x1f08f344630>"
      ]
     },
     "execution_count": 14,
     "metadata": {},
     "output_type": "execute_result"
    },
    {
     "data": {
      "image/png": "[encoded data removed]",
      "text/plain": [
       "<Figure size 432x288 with 1 Axes>"
      ]
     },
     "metadata": {},
     "output_type": "display_data"
    }
   ],
   "source": [
    "plt.figure()\n",
    "plt.scatter(x,anomaliaBourger)\n",
    "plt.title(\"Gráfica de anomalía de Bourger\")\n",
    "plt.ylabel(\"Anomalía de Bourger (mgals)\")\n",
    "plt.xlabel(\"Distancia (m)\")\n",
    "plt.plot(x,half,c=\"r\", label=\"Half-width\")\n",
    "plt.legend()"
   ]
  },
  {
   "cell_type": "code",
   "execution_count": 15,
   "metadata": {},
   "outputs": [
    {
     "name": "stdout",
     "output_type": "stream",
     "text": [
      "5636.633016553315\n"
     ]
    }
   ],
   "source": [
    "z=maxmed\n",
    "g=9.8 #Verificar valor\n",
    "r3=((3.0*g/4.0)*z**2)/(np.pi*G*deltadensidad)\n",
    "r=r3**(1/3)\n",
    "\n",
    "print (r)"
   ]
  },
  {
   "cell_type": "code",
   "execution_count": null,
   "metadata": {},
   "outputs": [],
   "source": []
  },
  {
   "cell_type": "code",
   "execution_count": null,
   "metadata": {},
   "outputs": [],
   "source": []
  },
  {
   "cell_type": "code",
   "execution_count": null,
   "metadata": {},
   "outputs": [],
   "source": []
  }
 ],
 "metadata": {
  "kernelspec": {
   "display_name": "Python 3",
   "language": "python",
   "name": "python3"
  },
  "language_info": {
   "codemirror_mode": {
    "name": "ipython",
    "version": 3
   },
   "file_extension": ".py",
   "mimetype": "text/x-python",
   "name": "python",
   "nbconvert_exporter": "python",
   "pygments_lexer": "ipython3",
   "version": "3.6.5"
  }
 },
 "nbformat": 4,
 "nbformat_minor": 2
}
